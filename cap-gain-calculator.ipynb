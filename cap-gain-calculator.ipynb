{
 "cells": [
  {
   "cell_type": "markdown",
   "id": "74c692df",
   "metadata": {},
   "source": [
    "# Capital Gain Calculator (FIFO Method)\n",
    "Adapted from VBA to Python\n",
    "\n",
    "### Structures\n",
    "1. Transaction queue\n",
    "    - HashMap (key is Asset, dict is list of two deques)\n",
    "2. Transactions\n",
    "    - 6 properties: Timestamp, Asset (eg. BTC), Type (buy or sell), Units, Total Amount ($), IRS ID (eg. Gemi 1)\n",
    "\n",
    "### Outline\n",
    "1. Validate transaction log CSV\n",
    "    - Sort CSV by Timestamp property\n",
    "    - Ensure valid Type property and corresponding Units property sign\n",
    "    - Ensure other properties properties\n",
    "2. Input data from transaction log CSV file into a buy transaction queue and sell transaction queue for each asset (eg. transaction log with BTC and ETH transactions -> BTC-Buy, BTC-Sell, ETH-Buy, Eth-Sell)\n",
    "3. For each asset, run FIFO algorithm\n",
    "    - While there are still transactions in the sell transaction queue, match front of sell queue with front of buy queue transaction (verifying buy transaction Timestamp property is before sell transaction)\n",
    "    - When a match is found, add write buy-sell transaction to output CSV file\n",
    "    - Update remaining balance (Units and Total Amount property) on buy/sell transaction and/or remove empty transaction(s) from respective queue\n",
    "    - Run until the sell transaction queue is empty, the remaining buy transaction(s) are the carryover\n",
    "4. Create summary report\n",
    "\n",
    "\n",
    "Question:\n",
    "\n",
    "FIFO method only matters in the case that there is carryover. If there is no carryover, that means every buy has a sell?? Could we just say in the case of carryover, look back at where the most recent buy transactions were and conclude that those are the carryover inventory still in possession. \n",
    "\n",
    "Actually I'm not entirely sure, it may be that the timing of certain buy/sell affects capital gain."
   ]
  },
  {
   "cell_type": "markdown",
   "id": "9fc6da7e",
   "metadata": {},
   "source": [
    "# 1. Read and Validate Transaction Log CSV"
   ]
  },
  {
   "cell_type": "code",
   "execution_count": 368,
   "id": "91c1c6cf",
   "metadata": {},
   "outputs": [],
   "source": [
    "import csv\n",
    "from datetime import datetime\n",
    "\n",
    "# Open CSV file\n",
    "file_name = \"large_example.csv\"\n",
    "file = open(file_name, 'r')\n",
    "transaction_log = csv.DictReader(file)\n",
    "\n",
    "# Sort transaction log by Timestamp property (must have format mm/dd/yyyy hh:mm:ss)\n",
    "transaction_log = sorted(transaction_log, key=lambda d: datetime.strptime(d['Timestamp'], \"%m/%d/%Y %H:%M:%S\"))\n",
    "\n",
    "# Change datatypes of Units and Total Amount to float\n",
    "for tx in transaction_log:\n",
    "    tx['Units'] = float(tx['Units'])\n",
    "    tx['Total Amount'] = float(tx['Total Amount'])"
   ]
  },
  {
   "cell_type": "markdown",
   "id": "2a069e83",
   "metadata": {},
   "source": [
    "# 2. Input Data into Transaction Queues"
   ]
  },
  {
   "cell_type": "code",
   "execution_count": 369,
   "id": "2a81393d",
   "metadata": {},
   "outputs": [],
   "source": [
    "from collections import deque\n",
    "\n",
    "# Create Transaction Queues\n",
    "asset_map = {}\n",
    "\n",
    "# Define buy and sell constants\n",
    "BUY = 0\n",
    "SELL = 1\n",
    "\n",
    "for tx in transaction_log:\n",
    "    # Create buy and sell deques for each asset\n",
    "    asset = tx['Asset']\n",
    "    if asset not in asset_map:\n",
    "        buy_deque = deque()\n",
    "        sell_deque = deque()\n",
    "        asset_map[asset] = (buy_deque, sell_deque)\n",
    "    \n",
    "    # Add transaction to respective deque\n",
    "    if tx['Type'] == \"Buy\":\n",
    "        asset_map[asset][BUY].appendleft(tx)\n",
    "    else:\n",
    "        asset_map[asset][SELL].appendleft(tx)\n",
    "        \n",
    "# Close CSV File\n",
    "file.close()"
   ]
  },
  {
   "cell_type": "markdown",
   "id": "5dfa02ce",
   "metadata": {},
   "source": [
    "# 3. Run FIFO Transaction Matching"
   ]
  },
  {
   "cell_type": "code",
   "execution_count": 370,
   "id": "5cf1b6a9",
   "metadata": {
    "scrolled": true
   },
   "outputs": [
    {
     "name": "stdout",
     "output_type": "stream",
     "text": [
      "BTC\n",
      "--------------------------------------------\n",
      "-6.661338147750939e-16\n",
      "-4.0000037504484e-08\n",
      "Capital Gain: 12557.889626055592\n",
      "Buy Volume: 10826342.760000005\n",
      "Sell Volume: 10838900.649626052\n",
      "\n",
      "\n",
      "ETH\n",
      "--------------------------------------------\n",
      "-1.27675647831893e-15\n",
      "Carryover: Gemi 976\n",
      "Capital Gain: 1854.1699999999548\n",
      "Buy Volume: 987332.0300000007\n",
      "Sell Volume: 989186.2000000003\n",
      "\n",
      "\n"
     ]
    }
   ],
   "source": [
    "\n",
    "# Loop through each asset\n",
    "for asset in asset_map:\n",
    "    # Run until there are no more transactions in sell deque\n",
    "    print(asset)\n",
    "    print(\"--------------------------------------------\")\n",
    "    capital_gain, buy_volume, sell_volume = 0, 0, 0\n",
    "    \n",
    "    while asset_map[asset][SELL]:\n",
    "        sell_tx = asset_map[asset][SELL].pop()\n",
    "        \n",
    "        # rounding down to 0????\n",
    "        if abs(sell_tx['Units']) < .0000001:\n",
    "            print(sell_tx['Units'])\n",
    "            continue\n",
    "        \n",
    "        # to-do: catch error here, asset_map[asset][BUY] must have a tx with units greater than sell_tx\n",
    "        \n",
    "        buy_tx = asset_map[asset][BUY].pop()\n",
    "        \n",
    "        match = {}\n",
    "        match['Buy IRS ID'] = buy_tx['IRS ID']\n",
    "        match['Buy Timestamp'] = buy_tx['Timestamp']\n",
    "        match['Sell Timestamp'] = sell_tx['Timestamp']\n",
    "        \n",
    "        \n",
    "        # to-do: catch error here, buy_tx['Timestamp'] must be before sell_tx['Timestamp']\n",
    "        assert (datetime.strptime(buy_tx['Timestamp'], \"%m/%d/%Y %H:%M:%S\") < datetime.strptime(sell_tx['Timestamp'], \"%m/%d/%Y %H:%M:%S\"))\n",
    "        \n",
    "        if abs(sell_tx['Units']) > buy_tx['Units']:\n",
    "            pro_rata_sale_price = buy_tx['Units'] / abs(sell_tx['Units']) * sell_tx['Total Amount']\n",
    "            \n",
    "            match['Units'] = buy_tx['Units']\n",
    "            match['Sale Price'] = pro_rata_sale_price\n",
    "            match['Basis'] = buy_tx['Total Amount']\n",
    "            \n",
    "            sell_tx['Units'] = sell_tx['Units'] + buy_tx['Units']\n",
    "            sell_tx['Total Amount'] = sell_tx['Total Amount'] - pro_rata_sale_price\n",
    "            \n",
    "            asset_map[asset][SELL].append(sell_tx)\n",
    "        \n",
    "        elif abs(sell_tx['Units']) < buy_tx['Units']:\n",
    "            pro_rata_basis = abs(sell_tx['Units']) / buy_tx['Units'] * buy_tx['Total Amount']\n",
    "            \n",
    "            match['Units'] = abs(sell_tx['Units'])\n",
    "            match['Sale Price'] = sell_tx['Total Amount']\n",
    "            match['Basis'] = pro_rata_basis\n",
    "            \n",
    "            buy_tx['Units'] = buy_tx['Units'] + sell_tx['Units']\n",
    "            buy_tx['Total Amount'] = buy_tx['Total Amount'] - pro_rata_basis\n",
    "\n",
    "            asset_map[asset][BUY].append(buy_tx)\n",
    "        \n",
    "        # transaction units are the same\n",
    "        else:\n",
    "            match['Units'] = buy_tx['Units']\n",
    "            match['Sale Price'] = sell_tx['Total Amount']\n",
    "            match['Basis'] = buy_tx['Total Amount']\n",
    "            \n",
    "        \n",
    "        match['Capital Gain'] = match['Sale Price'] - match['Basis']\n",
    "        # print(match['Sale Price'], \"-\", match['Basis'], \"=\", match['Capital Gain'])\n",
    "        #print(\"-- Units:\", match['Units'], \"-- Capital Gain:\", match['Sale Price'], \"-\", match['Basis'], \"=\", match['Capital Gain'], \"Buy:\", buy_tx['IRS ID'], \"-- Sell:\", sell_tx['IRS ID'])\n",
    "        #print(\"--------------------------------------------\")\n",
    "        capital_gain += match['Capital Gain']\n",
    "        buy_volume += match['Basis']\n",
    "        sell_volume += match['Sale Price']\n",
    "        \n",
    "\n",
    "        \n",
    "    # Carryover is remaining transactions in buy deque\n",
    "    while asset_map[asset][BUY]:\n",
    "        buy_tx = asset_map[asset][BUY].pop()\n",
    "        print(\"Carryover:\", buy_tx['IRS ID'])\n",
    "        buy_volume += buy_tx['Total Amount']\n",
    "        \n",
    "    \n",
    "    print(\"Capital Gain:\", capital_gain)\n",
    "    print(\"Buy Volume:\", buy_volume)\n",
    "    print(\"Sell Volume:\", sell_volume)\n",
    "    print(\"\\n\")\n",
    "            \n",
    "            \n",
    "        "
   ]
  },
  {
   "cell_type": "markdown",
   "id": "8cbeac13",
   "metadata": {},
   "source": [
    "# 4. Create Summary Report"
   ]
  },
  {
   "cell_type": "code",
   "execution_count": null,
   "id": "aeb641e3",
   "metadata": {},
   "outputs": [],
   "source": []
  }
 ],
 "metadata": {
  "kernelspec": {
   "display_name": "Python 3 (ipykernel)",
   "language": "python",
   "name": "python3"
  },
  "language_info": {
   "codemirror_mode": {
    "name": "ipython",
    "version": 3
   },
   "file_extension": ".py",
   "mimetype": "text/x-python",
   "name": "python",
   "nbconvert_exporter": "python",
   "pygments_lexer": "ipython3",
   "version": "3.8.9"
  }
 },
 "nbformat": 4,
 "nbformat_minor": 5
}
